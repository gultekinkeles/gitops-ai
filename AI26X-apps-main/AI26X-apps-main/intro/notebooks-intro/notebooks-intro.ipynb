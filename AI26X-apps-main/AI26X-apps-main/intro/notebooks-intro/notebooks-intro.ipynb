{
 "cells": [
  {
   "cell_type": "markdown",
   "metadata": {
    "tags": []
   },
   "source": [
    "1. Edit the following markdown cell with the *CHANGE_ME* text.\n",
    "To do this, click the cell text and press `Enter`.\n",
    "Change the text to *CHANGED*, and then press `Ctrl+Enter` to render the cell.\n"
   ]
  },
  {
   "cell_type": "markdown",
   "metadata": {},
   "source": [
    "CHANGE_ME"
   ]
  },
  {
   "cell_type": "markdown",
   "metadata": {
    "tags": []
   },
   "source": [
    "2. Edit the following code cell to print the message *Hello Red Hat*.\n",
    "Press `Ctrl+Enter` to render the result."
   ]
  },
  {
   "cell_type": "code",
   "execution_count": null,
   "metadata": {
    "tags": []
   },
   "outputs": [],
   "source": [
    "print(\"Hello!\")"
   ]
  },
  {
   "cell_type": "markdown",
   "metadata": {},
   "source": [
    "3. Execute the following cell several times to verify that it returns the same *Process Identifier* (PID) number.\n",
    "This is the PID of the Python kernel. \n"
   ]
  },
  {
   "cell_type": "code",
   "execution_count": null,
   "metadata": {
    "tags": []
   },
   "outputs": [],
   "source": [
    "import os\n",
    "\n",
    "os.getpid()"
   ]
  },
  {
   "cell_type": "markdown",
   "metadata": {},
   "source": [
    "4. Use a cell to assign the `hey` string to a variable called `test`, and print the value in a different cell.\n",
    "Verify that the cell which prints the value renders the string\n"
   ]
  },
  {
   "cell_type": "code",
   "execution_count": null,
   "metadata": {
    "tags": []
   },
   "outputs": [],
   "source": [
    "test = \"hey\""
   ]
  },
  {
   "cell_type": "code",
   "execution_count": null,
   "metadata": {
    "tags": []
   },
   "outputs": [],
   "source": [
    "print(test)"
   ]
  },
  {
   "cell_type": "markdown",
   "metadata": {},
   "source": [
    "5. Display the `redhat.png` image in the notebook's directory by using markdown.\n",
    "To do this, replace the `CHANGE_ME` string in the image name.\n",
    "\n",
    "![Red Hat logo](CHANGE_ME.png)"
   ]
  },
  {
   "cell_type": "markdown",
   "metadata": {},
   "source": [
    "6. Display an image by using Python code.\n",
    "For this, replace the `CHANGE_ME` string with the `redhat.png` file name."
   ]
  },
  {
   "cell_type": "code",
   "execution_count": null,
   "metadata": {
    "tags": []
   },
   "outputs": [],
   "source": [
    "from IPython import display\n",
    "\n",
    "display.Image(\"CHANGE_ME\", width=600, height=300)"
   ]
  },
  {
   "cell_type": "markdown",
   "metadata": {},
   "source": [
    "7. Uncomment the last two lines from the following source code and run the cell to plot a sine graph.\n"
   ]
  },
  {
   "cell_type": "code",
   "execution_count": null,
   "metadata": {
    "tags": []
   },
   "outputs": [],
   "source": [
    "import numpy as np\n",
    "import matplotlib.pyplot as plt\n",
    "\n",
    "# Generate data\n",
    "x = np.linspace(0, 10, 100)\n",
    "y = np.sin(x)\n",
    "\n",
    "# plot\n",
    "#plt.plot(x, y, linewidth=2.0)\n",
    "#plt.show()"
   ]
  },
  {
   "cell_type": "markdown",
   "metadata": {},
   "source": [
    "8. Enable the debug mode by clicking the `Enable debugger` _bug_ icon at the top right of this notebook."
   ]
  },
  {
   "cell_type": "markdown",
   "metadata": {},
   "source": [
    "9. Select the following cell, and then set a breakpoint on line 3.\n",
    "Then press `Ctrl+Enter` to verify that the debugger stops at line 3."
   ]
  },
  {
   "cell_type": "code",
   "execution_count": null,
   "metadata": {},
   "outputs": [],
   "source": [
    "x = 4\n",
    "b = 5\n",
    "y = 2 * x + b"
   ]
  },
  {
   "cell_type": "markdown",
   "metadata": {},
   "source": [
    "10. Stop the debugger by clicking the _bug_ icon again."
   ]
  },
  {
   "cell_type": "markdown",
   "metadata": {},
   "source": [
    "11. Set the following cell to markdown type.\n",
    "To do this, make sure that the cell is not in edit mode, then press `m`."
   ]
  },
  {
   "cell_type": "code",
   "execution_count": null,
   "metadata": {
    "tags": []
   },
   "outputs": [],
   "source": [
    "This is intended to be markdown text and should not print a python error."
   ]
  },
  {
   "cell_type": "markdown",
   "metadata": {},
   "source": [
    "12.Set the following cell to code type.\n",
    "To do this, make sure that the cell is not in edit mode, then press `y`."
   ]
  },
  {
   "cell_type": "markdown",
   "metadata": {
    "tags": []
   },
   "source": [
    "result = 2 + 2\n",
    "print(f'2 + 2 is {result}')"
   ]
  },
  {
   "cell_type": "markdown",
   "metadata": {},
   "source": [
    "13. Create an ordered sequence from 1 to 5 by moving the following cells.\n",
    "\n",
    "    Click the `+` icon in the toolbar to add the missing element.\n",
    "\n",
    "    To move a cell, hover over the left margin of a cell until the pointer cursor changes to a move cursor.\n",
    "    Then, drag the cell to the desired position.\n",
    "\n",
    "    To delete a cell, click the bin icon at the top-right corner of the cell."
   ]
  },
  {
   "cell_type": "markdown",
   "metadata": {
    "tags": []
   },
   "source": [
    "  1"
   ]
  },
  {
   "cell_type": "markdown",
   "metadata": {},
   "source": [
    "  3"
   ]
  },
  {
   "cell_type": "markdown",
   "metadata": {},
   "source": [
    "  5"
   ]
  },
  {
   "cell_type": "markdown",
   "metadata": {
    "tags": []
   },
   "source": [
    "  4"
   ]
  },
  {
   "cell_type": "markdown",
   "metadata": {},
   "source": [
    "14. Export this notebook to HTML.\n",
    "To export a notebook, click `File` in the top navigation bar, then `Save and Export Notebook As...` and finally select the `HTML` output format."
   ]
  },
  {
   "cell_type": "markdown",
   "metadata": {},
   "source": [
    "15. Open a new browser tab and navigate to `file:///home/student/Downloads/notebooks-intro.html` to see the export result."
   ]
  },
  {
   "cell_type": "markdown",
   "metadata": {
    "tags": []
   },
   "source": [
    "16. Notice that input and output cells are displayed within the HTML export even those output cells that include an image such as the sine graph."
   ]
  },
  {
   "cell_type": "markdown",
   "metadata": {},
   "source": [
    "17. In the HTML export, only one Red Hat logo is displayed. There should be two, one from the markdown cell and the other from the code cell output. The code cell output embeds the image content into the HTML export, thus it is working. To display the Red Hat logo for the markdown cell, right click the `redhat.png` file in the `File Browser` panel on the left. Click `Download` to download to `/home/student/Downloads`. Then refresh the export in your browser `file:///home/student/Downloads/notebooks-intro.html`."
   ]
  },
  {
   "cell_type": "markdown",
   "metadata": {},
   "source": [
    "18. Return to the course book and finish the exercise."
   ]
  }
 ],
 "metadata": {
  "kernelspec": {
   "display_name": "Python 3.9",
   "language": "python",
   "name": "python3"
  },
  "language_info": {
   "codemirror_mode": {
    "name": "ipython",
    "version": 3
   },
   "file_extension": ".py",
   "mimetype": "text/x-python",
   "name": "python",
   "nbconvert_exporter": "python",
   "pygments_lexer": "ipython3",
   "version": "3.9.16"
  }
 },
 "nbformat": 4,
 "nbformat_minor": 4
}
