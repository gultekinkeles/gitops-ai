{
 "cells": [
  {
   "cell_type": "markdown",
   "id": "5ddd6b9e-6c0a-405d-8e7a-0ca7c781a20b",
   "metadata": {
    "tags": []
   },
   "source": [
    "# gRPC Requests with Text Generation Inference Server\n",
    "\n",
    "Change that following variable settings match your deployed model's *Inference endpoint*. for example: \n",
    "\n",
    "```\n",
    "infer_endpoint = \"https://flan-t5-small-predictor-userx-workshop.apps.clusterx.sandboxx.opentlc.com\"\n",
    "```\n"
   ]
  },
  {
   "cell_type": "code",
   "execution_count": null,
   "id": "ae4684dc-b550-47f7-a053-abbbf1799e84",
   "metadata": {
    "tags": []
   },
   "outputs": [],
   "source": [
    "model_id = \"flan-t5-small\"\n",
    "grpc_port = 433\n",
    "infer_endpoint = \"https://tgis-ai-example-single-model-serving.apps.cluster-4jksb.dynamic.redhatworkshops.io\""
   ]
  },
  {
   "cell_type": "markdown",
   "id": "7550fa08-4018-417a-b68f-459798380345",
   "metadata": {},
   "source": [
    "The UI doesn't currently show the gRPC endpoint, but we can derive the hostname from the `inference endpoint` "
   ]
  },
  {
   "cell_type": "code",
   "execution_count": null,
   "id": "30d5023e-df32-4a69-863e-4e469e0f93bc",
   "metadata": {
    "tags": []
   },
   "outputs": [],
   "source": [
    "import re\n",
    "\n",
    "hostname = re.sub(\"https://|http://\", \"\", infer_endpoint)\n",
    "if hostname[-1] == \"/\":\n",
    "    hostname = hostname[:-1]\n",
    "\n",
    "hostname"
   ]
  },
  {
   "cell_type": "markdown",
   "id": "2a09085a",
   "metadata": {},
   "source": [
    "### gRPC\n",
    "\n",
    "gRPC is a high-performance RPC framework developed by Google, which can be used for inference in machine learning (ML) models. Here’s an overview of using gRPC for inference:\n",
    "\n",
    "*Advantages*  \n",
    "- Low-latency: gRPC provides low-latency communication between clients and servers, making it suitable for real-time inference applications.\n",
    "- High-performance: gRPC uses Protocol Buffers (protobuf) for serialization, which is more efficient than JSON or XML. This results in faster data transfer and processing.\n",
    "- Scalability: gRPC allows for easy horizontal scaling, enabling you to distribute inference workloads across multiple machines or containers.\n",
    "- Language-agnostic: gRPC supports multiple programming languages, including Python, Java, C++, and Go, making it a versatile choice for inference.\n",
    "\n",
    "*gRPC Inference Architecture*  \n",
    "- Client: The client sends a request to the gRPC server, specifying the input data and desired output.\n",
    "- Server: The gRPC server receives the request, performs inference using the ML model, and returns the output to the client.\n",
    "- Model: The ML model is deployed on the gRPC server, and can be updated or swapped without affecting the client.\n",
    "\n",
    "*gRPC Inference Protobuf Definition*  \n",
    "- Message definitions: Define the input and output messages using Protocol Buffers (protobuf). For example, InferenceRequest and InferenceResponse.\n",
    "- Service definition: Define the gRPC service interface, specifying the methods for inference (e.g., Predict).\n",
    "\n",
    "*Conclusion*\n",
    "gRPC provides a robust and efficient framework for inference in machine learning models. By defining protobuf messages and services, you can create a scalable and language-agnostic inference architecture."
   ]
  },
  {
   "cell_type": "markdown",
   "id": "4827495a-87f5-44e9-8443-33dce3a632d9",
   "metadata": {},
   "source": [
    "### Request Function\n",
    "\n",
    "Build and submit the gRPC request. \n",
    "\n",
    "We're using the `TgisGrpcClient` class from the `utils` directory.  If you're curious about the gRPC code, it's in the [utils/tgis_grpc_client.py](utils/tgis_grpc_client.py) file."
   ]
  },
  {
   "cell_type": "code",
   "execution_count": null,
   "id": "7d98c829-7f97-4ed8-80af-2fab704f8ba9",
   "metadata": {
    "tags": []
   },
   "outputs": [],
   "source": [
    "import sys\n",
    "sys.path.append('./utils')\n",
    "\n",
    "from utils.tgis_grpc_client import TgisGrpcClient\n",
    "\n",
    "# If using RHOAI 2.13 or new, set `verify=True`\n",
    "# Older versions utilize a self-signed cert that is not trusted by default\n",
    "client = TgisGrpcClient(\n",
    "    hostname,\n",
    "    443,\n",
    "    verify=True,\n",
    ")\n",
    "\n",
    "client.make_request(\"What is the capital of Italy?\", model_id=model_id)"
   ]
  },
  {
   "cell_type": "markdown",
   "id": "0e041279",
   "metadata": {},
   "source": [
    "Change the question to \"What is the capital of America?\" or \"What is the boiling point of water?\"\n",
    "\n",
    "Sometimes the model will not give a correct answer to the question that we ask it. \n",
    "\n",
    "Can you explain why?"
   ]
  },
  {
   "cell_type": "markdown",
   "id": "6ade97a7",
   "metadata": {},
   "source": []
  }
 ],
 "metadata": {
  "kernelspec": {
   "display_name": "Python 3.9",
   "language": "python",
   "name": "python3"
  },
  "language_info": {
   "codemirror_mode": {
    "name": "ipython",
    "version": 3
   },
   "file_extension": ".py",
   "mimetype": "text/x-python",
   "name": "python",
   "nbconvert_exporter": "python",
   "pygments_lexer": "ipython3",
   "version": "3.11.8"
  }
 },
 "nbformat": 4,
 "nbformat_minor": 5
}
