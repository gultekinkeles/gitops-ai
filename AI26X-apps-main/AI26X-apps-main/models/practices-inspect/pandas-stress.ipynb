{
 "cells": [
  {
   "cell_type": "markdown",
   "id": "c1327b72-6ab0-44b7-a19a-053149ba34c2",
   "metadata": {},
   "source": [
    "1. Import the `pandas` library as well as the `deepcopy` function from the `copy` standard Python package."
   ]
  },
  {
   "cell_type": "code",
   "execution_count": null,
   "id": "30ba4f6e-a277-4741-8953-3f425b8a6522",
   "metadata": {
    "tags": []
   },
   "outputs": [],
   "source": [
    "import pandas as pd\n",
    "from copy import deepcopy"
   ]
  },
  {
   "cell_type": "markdown",
   "id": "31d33f31-fe25-4184-b2ed-28426fc81ff6",
   "metadata": {},
   "source": [
    "2. Use Pandas to read the CSV file and store it as a data frame variable."
   ]
  },
  {
   "cell_type": "code",
   "execution_count": null,
   "id": "3fbb7708-69b1-4c32-acb5-f3d07a4b64bf",
   "metadata": {
    "tags": []
   },
   "outputs": [],
   "source": [
    "df = pd.read_csv('./rand_people.csv', index_col=['Initials'])"
   ]
  },
  {
   "cell_type": "markdown",
   "id": "57343de0-e067-4135-9b89-3fad06fd9d39",
   "metadata": {},
   "source": [
    "3. From the right-side menu, open the `Kernel Usage` panel.\n",
    "Observe that the Jupyter kernel CPU and memory are less than ten percent and under two-hundred megabytes, respectively."
   ]
  },
  {
   "cell_type": "markdown",
   "id": "213260d5-0e90-4a3d-9a55-30980b7b9616",
   "metadata": {},
   "source": [
    "4. Repeatedly copy the data frame object into a new array.\n",
    "Doing so utilizes an entire CPU available to the Jupyter kernel while running, and reserves a large portion of memory.\n",
    "Although this example is contrived, it emulates the scenario of manipulating large amounts of data, as is common with AI workloads."
   ]
  },
  {
   "cell_type": "code",
   "execution_count": null,
   "id": "dbddfe4b-8c8d-4599-8cc8-1260ad57d51d",
   "metadata": {
    "tags": []
   },
   "outputs": [],
   "source": [
    "while True:\n",
    "    arr = []\n",
    "    for i in range(1024*30):\n",
    "        arr = arr + [deepcopy(df)]"
   ]
  },
  {
   "cell_type": "markdown",
   "id": "155dd3ae-67d4-4e88-a5a9-1eb0cc82e7a1",
   "metadata": {},
   "source": [
    "5. As the code in the preceding cell runs, observe the CPU and memory usage from the `Kernel Usage` panel in the right side menu.\n",
    "In particular, the CPU usage is around 100% and the memory usage grows to several gigabytes."
   ]
  },
  {
   "cell_type": "markdown",
   "id": "64e04b36-63f6-45ba-8c71-bebe66c3aed6",
   "metadata": {},
   "source": [
    "6. Within the same panel, under the `Host CPU` section, observe that the CPU percentage is around 10% to 25% usage.\n",
    "This is because the usage in this section is based on the usage across all eight cores of the host."
   ]
  },
  {
   "cell_type": "markdown",
   "id": "82dfe539-1930-40b8-8a13-5317c3af7471",
   "metadata": {},
   "source": [
    "7. Open a new Jupyter tab by clicking the `New Launcher` (`+`) button next to the current tab.\n",
    "Within the launcher, click `Terminal` from the `Other` section."
   ]
  },
  {
   "cell_type": "markdown",
   "id": "b509f6d9-f2ff-4ae7-9aac-c43247e58185",
   "metadata": {},
   "source": [
    "8. Within the terminal, run the `top` command.\n",
    "This command displays resource usage of the top several processes on the host.\n",
    "In particular, observe that the `%CPU` column shows that the `python3.9` process utilizes around 100% of a CPU.\n",
    "Additionally, the `%MEM` column shows that the process uses an increased percentage of memory."
   ]
  },
  {
   "cell_type": "markdown",
   "id": "35e041ee-3b15-424c-baa2-b12119439f6a",
   "metadata": {},
   "source": [
    "9. Restart the Jupyter kernel by clicking `Kernel > Restart Kernel...` from the top menu.\n",
    "The CPU and memory usage in both the side panel and the terminal tab return to normal."
   ]
  },
  {
   "cell_type": "code",
   "execution_count": null,
   "id": "e6234f1b-2a4d-42d6-a7d6-f33889ff542e",
   "metadata": {},
   "outputs": [],
   "source": []
  }
 ],
 "metadata": {
  "kernelspec": {
   "display_name": "Python 3.9",
   "language": "python",
   "name": "python3"
  },
  "language_info": {
   "codemirror_mode": {
    "name": "ipython",
    "version": 3
   },
   "file_extension": ".py",
   "mimetype": "text/x-python",
   "name": "python",
   "nbconvert_exporter": "python",
   "pygments_lexer": "ipython3",
   "version": "3.9.16"
  }
 },
 "nbformat": 4,
 "nbformat_minor": 5
}
